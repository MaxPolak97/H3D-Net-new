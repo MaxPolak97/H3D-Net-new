{
  "nbformat": 4,
  "nbformat_minor": 0,
  "metadata": {
    "colab": {
      "name": "average_model_params.ipynb",
      "provenance": [],
      "authorship_tag": "ABX9TyPrWm8Rpmn6hmvV5KlXW5tc",
      "include_colab_link": true
    },
    "kernelspec": {
      "name": "python3",
      "display_name": "Python 3"
    },
    "language_info": {
      "name": "python"
    },
    "accelerator": "GPU"
  },
  "cells": [
    {
      "cell_type": "markdown",
      "metadata": {
        "id": "view-in-github",
        "colab_type": "text"
      },
      "source": [
        "<a href=\"https://colab.research.google.com/github/MaxPolak97/H3D-Net-new/blob/main/average_model_params.ipynb\" target=\"_parent\"><img src=\"https://colab.research.google.com/assets/colab-badge.svg\" alt=\"Open In Colab\"/></a>"
      ]
    },
    {
      "cell_type": "code",
      "execution_count": 3,
      "metadata": {
        "id": "IHLefb6KGrSQ"
      },
      "outputs": [],
      "source": [
        "import torch\n",
        "from collections import OrderedDict"
      ]
    },
    {
      "cell_type": "code",
      "source": [
        "if torch.cuda.is_available():\n",
        "    device = 'cuda:0'\n",
        "    print('You have CUDA device.')\n",
        "else:\n",
        "    device = 'cpu'\n",
        "    print('Switch to GPU runtime to speed up computation.')"
      ],
      "metadata": {
        "colab": {
          "base_uri": "https://localhost:8080/"
        },
        "id": "1stoEcLmGxY5",
        "outputId": "df37c2d8-3e48-4bb7-b544-37ec5da34e4a"
      },
      "execution_count": 4,
      "outputs": [
        {
          "output_type": "stream",
          "name": "stdout",
          "text": [
            "You have CUDA device.\n"
          ]
        }
      ]
    },
    {
      "cell_type": "code",
      "source": [
        "# Load Model Parameters of different scans\n",
        "model1 = torch.load('scan10/500.pth')\n",
        "model2 = torch.load('scan6/500.pth')\n",
        "model3 = torch.load('scan22/500.pth')\n",
        "\n",
        "model_state_dict1 = model1['model_state_dict']\n",
        "model_state_dict2 = model2['model_state_dict']\n",
        "model_state_dict3 = model3['model_state_dict']\n",
        "\n",
        "avg_model_state_dict = OrderedDict() # create new state dictionary with average model parameters\n",
        "for k in model_state_dict1.keys():\n",
        "    sum_model = model_state_dict1[k] + model_state_dict2[k] + model_state_dict3[k]\n",
        "    avg_model_state_dict[k] = sum_model / 3\n",
        "\n",
        "print(avg_model_state_dict.keys())\n",
        "\n",
        "avg_model = {'epoch': model1['epoch'], 'model_state_dict': avg_model_state_dict}\n",
        "print(avg_model.keys()) # dict_keys(['epoch', 'model_state_dict'])\n",
        "\n",
        "torch.save(avg_model, 'prior_500.pth')\n",
        "model_load = torch.load('prior_500.pth')\n",
        "\n"
      ],
      "metadata": {
        "colab": {
          "base_uri": "https://localhost:8080/"
        },
        "id": "oZbOVRRWG1Da",
        "outputId": "a1a284d4-793c-4ed4-8f74-d4cddc7a3d93"
      },
      "execution_count": 7,
      "outputs": [
        {
          "output_type": "stream",
          "name": "stdout",
          "text": [
            "odict_keys(['implicit_network.lin0.bias', 'implicit_network.lin0.weight_g', 'implicit_network.lin0.weight_v', 'implicit_network.lin1.bias', 'implicit_network.lin1.weight_g', 'implicit_network.lin1.weight_v', 'implicit_network.lin2.bias', 'implicit_network.lin2.weight_g', 'implicit_network.lin2.weight_v', 'implicit_network.lin3.bias', 'implicit_network.lin3.weight_g', 'implicit_network.lin3.weight_v', 'implicit_network.lin4.bias', 'implicit_network.lin4.weight_g', 'implicit_network.lin4.weight_v', 'implicit_network.lin5.bias', 'implicit_network.lin5.weight_g', 'implicit_network.lin5.weight_v', 'implicit_network.lin6.bias', 'implicit_network.lin6.weight_g', 'implicit_network.lin6.weight_v', 'implicit_network.lin7.bias', 'implicit_network.lin7.weight_g', 'implicit_network.lin7.weight_v', 'implicit_network.lin8.bias', 'implicit_network.lin8.weight_g', 'implicit_network.lin8.weight_v', 'rendering_network.lin0.bias', 'rendering_network.lin0.weight_g', 'rendering_network.lin0.weight_v', 'rendering_network.lin1.bias', 'rendering_network.lin1.weight_g', 'rendering_network.lin1.weight_v', 'rendering_network.lin2.bias', 'rendering_network.lin2.weight_g', 'rendering_network.lin2.weight_v', 'rendering_network.lin3.bias', 'rendering_network.lin3.weight_g', 'rendering_network.lin3.weight_v', 'rendering_network.lin4.bias', 'rendering_network.lin4.weight_g', 'rendering_network.lin4.weight_v'])\n",
            "dict_keys(['epoch', 'model_state_dict'])\n"
          ]
        }
      ]
    }
  ]
}