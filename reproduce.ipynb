{
 "cells": [
  {
   "cell_type": "code",
   "execution_count": null,
   "id": "d84a52e2",
   "metadata": {},
   "outputs": [],
   "source": [
    "from h3ds.dataset import H3DS\n",
    "import numpy as np\n",
    "from tempfile import TemporaryFile\n",
    "import trimesh\n",
    "import copy\n",
    "from ipywidgets import interact, interactive, widgets, fixed\n",
    "from h3ds.mesh import Mesh\n",
    "#from vtkplotter import *\n",
    "\n",
    "h3ds = H3DS(path='h3ds_v0.2')\n"
   ]
  },
  {
   "cell_type": "code",
   "execution_count": null,
   "id": "76d16e76",
   "metadata": {},
   "outputs": [],
   "source": [
    "scene_id = 'e98bae39fad2244e'\n",
    "view = '16'"
   ]
  },
  {
   "cell_type": "code",
   "execution_count": null,
   "id": "285f2d85",
   "metadata": {},
   "outputs": [],
   "source": [
    "mesh_pred_path = 'idr_eval_results/reconstructions/idr/' + scene_id + '_' + view + '.ply'\n",
    "mesh_pred = Mesh().load(mesh_pred_path)\n",
    "\n",
    "mesh_gt, images, masks, cameras, _ = h3ds.load_scene(scene_id, view)\n"
   ]
  },
  {
   "cell_type": "code",
   "execution_count": null,
   "id": "24aaff12",
   "metadata": {},
   "outputs": [],
   "source": [
    "#print(mesh_pred.centroid)\n",
    "#print(mesh_gt.centroid)\n",
    "#print(mesh_gt.extents)\n",
    "\n",
    "#print(mesh_pred.bounding_box.extents)\n",
    "\n",
    "#print(mesh_gt.vertices)\n",
    "\n",
    "vertices = mesh_gt.vertices\n",
    "vertices_pred = mesh_pred.vertices\n",
    "\n",
    "\n",
    "\n",
    "print(vertices)\n",
    "print(vertices_pred)\n",
    "\n",
    "#pc_gt = Points(mesh_gt.vertices, r=10)\n"
   ]
  },
  {
   "cell_type": "code",
   "execution_count": null,
   "id": "c63a6637",
   "metadata": {},
   "outputs": [],
   "source": [
    "closest_vert_right_eye = vertices_pred[0]\n",
    "closest_vert_left_eye = vertices_pred[0]\n",
    "closest_vert_nose_base = vertices_pred[0]\n",
    "closest_vert_right_lips = vertices_pred[0]\n",
    "closest_vert_left_lips = vertices_pred[0]\n",
    "closest_vert_nose_tip = vertices_pred[0]\n",
    "\n",
    "closest_vert = [closest_vert_right_eye, \n",
    "                closest_vert_left_eye, \n",
    "                closest_vert_nose_base, \n",
    "                closest_vert_right_lips, \n",
    "                closest_vert_left_lips,\n",
    "                closest_vert_nose_tip]\n",
    "\n",
    "#print(closest_vert)\n",
    "#168f8ca5c2dce5bc\n",
    "#right_eye = [-64.928, -103.996, 552.295]\n",
    "#left_eye = [-37.282, -105.554, 563.712]\n",
    "#nose_base = [-47.800, -34.497, 542.937]\n",
    "#right_lips = [-84.489, 6.352, 558.372]\n",
    "#left_lips = [-13.259, 8.071, 561.263]\n",
    "#nose_tip = [-48.228, -65.305, 560.791]\n",
    "\n",
    "#7dd427509fe84baa_32\n",
    "#right_eye = []\n",
    "#left_eye = []\n",
    "#nose_base = []\n",
    "#right_lips = []\n",
    "#left_lips = []\n",
    "#nose_tip = []\n",
    "\n",
    "#1b2a8613401e42a8_32\n",
    "#right_eye = [-19.820, -32.081, -95.198]\n",
    "#left_eye = [17.733, -35.211, -94.272]\n",
    "#nose_base = [-2.217, 14.079, -113.702]\n",
    "#right_lips = [-25.297, 32.855, -102.144]\n",
    "#left_lips = [22.428, 33.638, -100.588]\n",
    "#nose_tip = [-1.435, -2.742, -131.073]\n",
    "\n",
    "#609cc60fd416e187_32\n",
    "#right_eye = [-16.530, -30.722, -89.802]\n",
    "#left_eye = [20.720, -30.001,  -87.447]\n",
    "#nose_base = [0.304, 20.138, -110.146]\n",
    "#right_lips = [-20.828, 38.404, -98.572]\n",
    "#left_lips = [27.883, 36.972, -94.766]\n",
    "#nose_tip = [2.811, 0.797, -123.518]\n",
    "\n",
    "#868765907f66fd85_32\n",
    "#right_eye = [-16.173, -35.793, -98.171]\n",
    "#left_eye = [14.203, -35.377, -95.532]\n",
    "#nose_base = [-1.193, 10.396, -114.209]\n",
    "#right_lips = [-24.079, 37.443, -102.910]\n",
    "#left_lips = [27.519, 39.107, -101.903]\n",
    "#nose_tip = [-2.441, -7.081, -128.065]\n",
    "\n",
    "#5cd49557ea450c89_32\n",
    "#right_eye = [-19.855, -29.891, -97.883]\n",
    "#left_eye = [16.004, -29.891, -95.568]\n",
    "#nose_base = [-2.106, 19.369, -114.213]\n",
    "#right_lips = [-28.185, 42.913, -99.448]\n",
    "#left_lips = [21.437, 44.724, -102.377]\n",
    "#nose_tip = [-2.106, 2.346, -128.631]\n",
    "\n",
    "#7dd427509fe84baa_32\n",
    "#right_eye = [-9.408, -35.940, -98.784]\n",
    "#left_eye = [21.971, -37.289, -90.242]\n",
    "#nose_base = [3.413, 8.261, -110.539]\n",
    "#right_lips = [-22.567, 36.603, -95.941]\n",
    "#left_lips = [27.032, 38.291, -93.944]\n",
    "#nose_tip = [6.113, -5.573, -129.971]\n",
    "\n",
    "#444ea0dc5e85ee0b_32\n",
    "#right_eye = [-16.579, -30.780, -86.765]\n",
    "#left_eye = [16.459, -31.846, -86,564]\n",
    "#nose_base = [-0.859, 12.649, -101.914]\n",
    "#right_lips = [-22.707, 34.230, -92.336]\n",
    "#left_lips = [20.189, 33.164, -92.723]\n",
    "#nose_tip = [-1.925, -4.136, -113.307]\n",
    "\n",
    "#f7e930d8a9ff2091_32\n",
    "#right_eye = [-13.089, -36.052, -85.997]\n",
    "#left_eye = [25.550, -34.916, -82.172]\n",
    "#nose_base = [6.231, 9.784, -106.997]\n",
    "#right_lips = [-25.211, 29.861, -91.883]\n",
    "#left_lips = [27.444, 30.240, -96.115]\n",
    "#nose_tip = [8.882, -7.641, -122.460]\n",
    "\n",
    "#e98bae39fad2244e_32\n",
    "right_eye = [-16.641, -33.323, -97.289]\n",
    "left_eye = [16.017, -33.736, -94.226]\n",
    "nose_base = [3.202, 17.111, -120.557]\n",
    "right_lips = [-17.881, 32.820, -103.418]\n",
    "left_lips = [20.151, 33.234, -101.577]\n",
    "nose_tip = [0.308, 0.576, -136.286]\n",
    "\n",
    "landmarks = [right_eye, left_eye, nose_base, right_lips, left_lips, nose_tip]\n",
    "\n",
    "\n",
    "print(landmarks)\n",
    "print(closest_vert[0])"
   ]
  },
  {
   "cell_type": "code",
   "execution_count": null,
   "id": "d77bab82",
   "metadata": {},
   "outputs": [],
   "source": [
    "closest_loss = []\n",
    "\n",
    "for idx, vertex in enumerate(closest_vert):\n",
    "    closest_loss.append(abs(vertex[0] - landmarks[idx][0]) + abs(vertex[1] - landmarks[idx][1]) + abs(vertex[2] - landmarks[idx][2]))\n",
    "\n",
    "\n",
    "\n",
    "\n",
    "#print(closest_loss)\n",
    "landmarks_idx = [0, 0, 0, 0, 0, 0]\n",
    "#right_eye_idx = 0\n",
    "for idx_1, landmark in enumerate(landmarks):\n",
    "    for idx, vert in enumerate(vertices_pred):\n",
    "        loss = abs(vert[0] - landmark[0]) + abs(vert[1] - landmark[1]) + abs(vert[2] - landmark[2])\n",
    "        if loss < closest_loss[idx_1]:\n",
    "            closest_vert[idx_1] = vert\n",
    "            closest_loss[idx_1] = loss\n",
    "            landmarks_idx[idx_1] = idx\n",
    "        \n",
    "\n",
    "        \n",
    "print(closest_loss)\n",
    "\n",
    "print(landmarks_idx)\n",
    "\n",
    "\n",
    "\n",
    "    "
   ]
  },
  {
   "cell_type": "code",
   "execution_count": null,
   "id": "f0350d27",
   "metadata": {},
   "outputs": [],
   "source": [
    "lines = landmarks_idx\n",
    "keys = landmarks = ['right_eye', 'left_eye', 'nose_base', 'right_lips', 'left_lips', 'nose_tip']\n",
    "\n",
    "with open('idr_eval_results/reconstructions/idr/' + scene_id + '_' + 'landmarks' + '_' + view + '.txt', 'w') as f:\n",
    "    for idx, line in enumerate(lines):\n",
    "        f.write(keys[idx])\n",
    "        f.write(' ')\n",
    "        f.write(str(line))\n",
    "        f.write('\\n')"
   ]
  },
  {
   "cell_type": "code",
   "execution_count": null,
   "id": "79c21b0c",
   "metadata": {},
   "outputs": [],
   "source": [
    "#%matplotlib widget\n",
    "import matplotlib.pyplot as plt\n",
    "#from mpl_toolkits.mplot3d import Axes3D\n",
    "\n",
    "fig = plt.figure(figsize=(50,50))\n",
    "ax = plt.axes(projection='3d')\n",
    "#ay = plt.axes(projection='3d')\n",
    "#ax = Axes3D(fig)\n",
    "ax.scatter(vertices[:,0],vertices[:,2], -(vertices[:,1]), s=0.01)#, markerfacecolor=\"blue\", markersize=0.01)\n",
    "#ax.scatter(vertices[381,0], vertices[381,2], -vertices[381,1])\n",
    "ax.scatter(vertices_pred[:,0],vertices_pred[:,2], -(vertices_pred[:,1]),  s=0.01)\n",
    "\n",
    "\n",
    "for idx in landmarks_idx:\n",
    "    ax.plot3D(vertices_pred[idx,0], vertices_pred[idx,2], -vertices_pred[idx,1], marker=\"o\", markerfacecolor=\"orange\", markersize=25)\n",
    "\n",
    "\n",
    "plt.show()\n",
    "\n",
    " \n"
   ]
  },
  {
   "cell_type": "code",
   "execution_count": null,
   "id": "88a4cc9c",
   "metadata": {},
   "outputs": [],
   "source": [
    "\n",
    "#show((mesh_pred), axes=1)"
   ]
  },
  {
   "cell_type": "code",
   "execution_count": null,
   "id": "047261e8",
   "metadata": {},
   "outputs": [],
   "source": [
    "#mesh_gt.show()\n",
    "#mesh_SWC.show()"
   ]
  },
  {
   "cell_type": "code",
   "execution_count": null,
   "id": "85cf9a2d",
   "metadata": {},
   "outputs": [],
   "source": [
    "#scale = mesh_pred.extents / mesh_gt.extents\n",
    "#matrix = np.eye(4)\n",
    "#matrix[:2, :2] /= scale[:2]\n",
    "#mesh_pred_copy = copy.deepcopy(mesh_pred)\n",
    "\n",
    "#mesh_pred_copy.apply_transform(matrix)\n",
    "\n",
    "#print('\\nafter operation\\n')\n",
    "#print(mesh_pred_copy.extents)\n",
    "#print(mesh_gt.extents)\n",
    "\n",
    "#T, cost = trimesh.registration.mesh_other(mesh_pred, mesh_gt)"
   ]
  },
  {
   "cell_type": "code",
   "execution_count": null,
   "id": "f4914ab3",
   "metadata": {},
   "outputs": [],
   "source": [
    "#mesh_pred_copy.show()\n",
    "#mesh_pred_trans.export('mesh_pred_trans.ply')"
   ]
  },
  {
   "cell_type": "code",
   "execution_count": null,
   "id": "7595a9e2",
   "metadata": {},
   "outputs": [],
   "source": [
    "#print(T, cost)"
   ]
  },
  {
   "cell_type": "code",
   "execution_count": null,
   "id": "a533cc5b",
   "metadata": {},
   "outputs": [],
   "source": [
    "#T, cost = trimesh.registration.mesh_other(mesh_pred, mesh_gt)\n",
    "#matrix = np.eye(4)\n",
    "#P = mesh_gt.centroid - mesh_pred.centroid\n",
    "#matrix[:,3] = [0, P[1], P[2], 1]\n",
    "#print(matrix)\n",
    "#mesh_pred_copy = copy.deepcopy(mesh_pred)\n",
    "#mesh_pred_trans = mesh_pred_copy.apply_transform(matrix)\n",
    "\n",
    "#print(mesh_pred_trans)\n",
    "#transformed_mesh = trimesh.transformations."
   ]
  },
  {
   "cell_type": "code",
   "execution_count": null,
   "id": "98827f32",
   "metadata": {},
   "outputs": [],
   "source": [
    "#T, cost = trimesh.registration.mesh_other(mesh_pred_trans, mesh_gt)\n",
    "#print(matrix)\n",
    "#print(T)\n",
    "\n",
    "#print(mesh_pred_trans.centroid)\n",
    "#print(mesh_gt.centroid)"
   ]
  },
  {
   "cell_type": "code",
   "execution_count": null,
   "id": "fd3bc30d",
   "metadata": {},
   "outputs": [],
   "source": [
    "#mesh_pred_trans = mesh_pred_trans.apply_transform(T)\n",
    "#print(T, cost)"
   ]
  },
  {
   "cell_type": "code",
   "execution_count": null,
   "id": "38495dc4",
   "metadata": {},
   "outputs": [],
   "source": [
    "#T, cost = trimesh.registration.mesh_other(mesh_pred_trans, mesh_gt)"
   ]
  },
  {
   "cell_type": "code",
   "execution_count": null,
   "id": "c403e8e8",
   "metadata": {},
   "outputs": [],
   "source": [
    "#print(T, cost)\n",
    "#print(mesh_pred_trans.)"
   ]
  },
  {
   "cell_type": "code",
   "execution_count": null,
   "id": "47fbb7e7",
   "metadata": {},
   "outputs": [],
   "source": [
    "#trimesh.exchange.export.export_mesh(mesh_pred_trans, 'mesh_pred_trans.ply')\n",
    "#mesh_pred_trans.export('mesh_pred_trans.ply')"
   ]
  },
  {
   "cell_type": "code",
   "execution_count": null,
   "id": "c8ee1bc4",
   "metadata": {},
   "outputs": [],
   "source": []
  },
  {
   "cell_type": "code",
   "execution_count": null,
   "id": "7615d553",
   "metadata": {},
   "outputs": [],
   "source": [
    "#scenes = h3ds.scenes() # returns all the scenes ['1b2a8613401e42a8', ...]\n",
    "#scenes = h3ds.scenes(tags={'h3d-net'}) # returns the scenes used in H3D-Net paper"
   ]
  },
  {
   "cell_type": "code",
   "execution_count": null,
   "id": "8b254a21",
   "metadata": {},
   "outputs": [],
   "source": [
    "#views_configs = h3ds.default_views_configs(scene_id='1b2a8613401e42a8') # '3', '4', '8', '16' and '32'\n",
    "#mesh_3, images_3, masks_3, cameras_3 = h3ds.load_scene(scene_id='1b2a8613401e42a8', views_config_id='3')\n",
    "#mesh, images, masks, cameras = h3ds.load_scene(scene_id='1b2a8613401e42a8')\n",
    "\n",
    "\n"
   ]
  },
  {
   "cell_type": "code",
   "execution_count": null,
   "id": "69455536",
   "metadata": {},
   "outputs": [],
   "source": []
  },
  {
   "cell_type": "code",
   "execution_count": null,
   "id": "54530a68",
   "metadata": {},
   "outputs": [],
   "source": []
  },
  {
   "cell_type": "code",
   "execution_count": null,
   "id": "c608786c",
   "metadata": {},
   "outputs": [],
   "source": []
  },
  {
   "cell_type": "code",
   "execution_count": null,
   "id": "9294a1a4",
   "metadata": {},
   "outputs": [],
   "source": []
  },
  {
   "cell_type": "code",
   "execution_count": null,
   "id": "7953fd72",
   "metadata": {},
   "outputs": [],
   "source": []
  },
  {
   "cell_type": "code",
   "execution_count": null,
   "id": "e026aa64",
   "metadata": {},
   "outputs": [],
   "source": []
  }
 ],
 "metadata": {
  "kernelspec": {
   "display_name": "Python 3",
   "language": "python",
   "name": "python3"
  },
  "language_info": {
   "codemirror_mode": {
    "name": "ipython",
    "version": 3
   },
   "file_extension": ".py",
   "mimetype": "text/x-python",
   "name": "python",
   "nbconvert_exporter": "python",
   "pygments_lexer": "ipython3",
   "version": "3.8.8"
  }
 },
 "nbformat": 4,
 "nbformat_minor": 5
}
